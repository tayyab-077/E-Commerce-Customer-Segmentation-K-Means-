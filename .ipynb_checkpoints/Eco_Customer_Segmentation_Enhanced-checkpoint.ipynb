{
 "cells": [
  {
   "cell_type": "markdown",
   "id": "5f83ce64",
   "metadata": {},
   "source": [
    "# 🛍️ E-commerce Customer Segmentation using K-Means Clustering\n",
    "\n",
    "This notebook performs customer segmentation on an e-commerce dataset using K-Means clustering and RFM analysis (Recency, Frequency, Monetary)."
   ]
  },
  {
   "cell_type": "markdown",
   "id": "a71a8467",
   "metadata": {},
   "source": [
    "## 📦 Step 1: Import Required Libraries\n",
    "\n",
    "```python\n",
    "import pandas as pd\n",
    "import numpy as np\n",
    "import matplotlib.pyplot as plt\n",
    "import seaborn as sns\n",
    "from sklearn.preprocessing import StandardScaler\n",
    "from sklearn.cluster import KMeans\n",
    "from sklearn.metrics import silhouette_score\n",
    "import datetime as dt\n",
    "\n",
    "sns.set(style=\"whitegrid\")\n",
    "```"
   ]
  },
  {
   "cell_type": "markdown",
   "id": "f3189cf8",
   "metadata": {},
   "source": [
    "## 📥 Step 2: Load Dataset\n",
    "\n",
    "```python\n",
    "# Load dataset (change filename as needed)\n",
    "df = pd.read_csv(\"data.csv\", encoding='ISO-8859-1')\n",
    "df.head()\n",
    "```"
   ]
  },
  {
   "cell_type": "markdown",
   "id": "05993f93",
   "metadata": {},
   "source": [
    "## 🧹 Step 3: Basic Data Exploration\n",
    "\n",
    "```python\n",
    "# Check shape\n",
    "print(\"Shape:\", df.shape)\n",
    "\n",
    "# Check column info\n",
    "df.info()\n",
    "\n",
    "# Describe numerical data\n",
    "df.describe()\n",
    "```"
   ]
  },
  {
   "cell_type": "markdown",
   "id": "b131c617",
   "metadata": {},
   "source": [
    "## ❓ Step 4: Check Missing and Duplicate Values\n",
    "\n",
    "```python\n",
    "# Missing values\n",
    "missing = df.isnull().sum()\n",
    "print(\"Missing values:\\n\", missing)\n",
    "\n",
    "# Drop rows with missing CustomerID\n",
    "df.dropna(subset=[\"CustomerID\"], inplace=True)\n",
    "\n",
    "# Check for duplicates\n",
    "duplicates = df.duplicated().sum()\n",
    "print(\"Duplicate rows:\", duplicates)\n",
    "```"
   ]
  },
  {
   "cell_type": "markdown",
   "id": "570affff",
   "metadata": {},
   "source": [
    "## 🔍 Step 5: Data Cleaning\n",
    "\n",
    "```python\n",
    "# Remove canceled orders (InvoiceNo starting with 'C')\n",
    "df = df[~df['InvoiceNo'].astype(str).str.startswith('C')]\n",
    "\n",
    "# Convert InvoiceDate to datetime\n",
    "df['InvoiceDate'] = pd.to_datetime(df['InvoiceDate'])\n",
    "\n",
    "# Create TotalPrice = Quantity * UnitPrice\n",
    "df['TotalPrice'] = df['Quantity'] * df['UnitPrice']\n",
    "\n",
    "# Filter out negative or zero quantities and prices\n",
    "df = df[(df['Quantity'] > 0) & (df['UnitPrice'] > 0)]\n",
    "\n",
    "df.shape\n",
    "```"
   ]
  },
  {
   "cell_type": "markdown",
   "id": "06f5b071",
   "metadata": {},
   "source": [
    "## 🧠 Step 6: Feature Engineering – RFM Metrics\n",
    "\n",
    "```python\n",
    "# Snapshot date: 1 day after last invoice\n",
    "snapshot_date = df['InvoiceDate'].max() + dt.timedelta(days=1)\n",
    "\n",
    "# Group by customer\n",
    "rfm = df.groupby('CustomerID').agg({\n",
    "    'InvoiceDate': lambda x: (snapshot_date - x.max()).days,  # Recency\n",
    "    'InvoiceNo': 'nunique',                                   # Frequency\n",
    "    'TotalPrice': 'sum'                                       # Monetary\n",
    "}).reset_index()\n",
    "\n",
    "rfm.columns = ['CustomerID', 'Recency', 'Frequency', 'Monetary']\n",
    "rfm.head()\n",
    "```"
   ]
  },
  {
   "cell_type": "markdown",
   "id": "783606be",
   "metadata": {},
   "source": [
    "## ⚖️ Step 7: Normalize RFM Features\n",
    "\n",
    "```python\n",
    "scaler = StandardScaler()\n",
    "rfm_scaled = scaler.fit_transform(rfm[['Recency', 'Frequency', 'Monetary']])\n",
    "```"
   ]
  },
  {
   "cell_type": "markdown",
   "id": "17aca01c",
   "metadata": {},
   "source": [
    "## 📉 Step 8: Elbow Method for Optimal Clusters\n",
    "\n",
    "```python\n",
    "wcss = []\n",
    "for i in range(1, 11):\n",
    "    kmeans = KMeans(n_clusters=i, random_state=42)\n",
    "    kmeans.fit(rfm_scaled)\n",
    "    wcss.append(kmeans.inertia_)\n",
    "\n",
    "plt.figure(figsize=(8, 4))\n",
    "plt.plot(range(1, 11), wcss, marker='o')\n",
    "plt.title('Elbow Method')\n",
    "plt.xlabel('No. of Clusters')\n",
    "plt.ylabel('WCSS')\n",
    "plt.show()\n",
    "```"
   ]
  },
  {
   "cell_type": "markdown",
   "id": "abc951ad",
   "metadata": {},
   "source": [
    "## 🎯 Step 9: K-Means Clustering\n",
    "\n",
    "```python\n",
    "# Let's assume 4 clusters from elbow curve\n",
    "kmeans = KMeans(n_clusters=4, random_state=42)\n",
    "rfm['Cluster'] = kmeans.fit_predict(rfm_scaled)\n",
    "\n",
    "# Silhouette Score\n",
    "score = silhouette_score(rfm_scaled, rfm['Cluster'])\n",
    "print(\"Silhouette Score:\", score)\n",
    "```"
   ]
  },
  {
   "cell_type": "markdown",
   "id": "a6176480",
   "metadata": {},
   "source": [
    "## 📊 Step 10: Cluster Summary\n",
    "\n",
    "```python\n",
    "cluster_summary = rfm.groupby('Cluster').agg({\n",
    "    'Recency': 'mean',\n",
    "    'Frequency': 'mean',\n",
    "    'Monetary': 'mean',\n",
    "    'CustomerID': 'count'\n",
    "}).rename(columns={'CustomerID': 'Count'}).reset_index()\n",
    "\n",
    "cluster_summary\n",
    "```"
   ]
  },
  {
   "cell_type": "markdown",
   "id": "91bd6a3c",
   "metadata": {},
   "source": [
    "## 📈 Step 11: Visualize Clusters\n",
    "\n",
    "```python\n",
    "# Pairplot of clusters\n",
    "sns.pairplot(rfm, hue='Cluster', palette='tab10')\n",
    "plt.suptitle(\"Cluster-wise RFM Distribution\", y=1.02)\n",
    "plt.show()\n",
    "```"
   ]
  },
  {
   "cell_type": "markdown",
   "id": "7a900214",
   "metadata": {},
   "source": [
    "## 💾 Step 12: Save Results\n",
    "\n",
    "```python\n",
    "# Export clustered customers to CSV\n",
    "rfm.to_csv(\"clustered_customers.csv\", index=False)\n",
    "```"
   ]
  },
  {
   "cell_type": "markdown",
   "id": "8543c48c",
   "metadata": {},
   "source": [
    "## ✅ Project Complete!\n",
    "\n",
    "You have successfully performed customer segmentation using K-Means clustering on an E-commerce dataset. This analysis can help businesses tailor marketing strategies for different customer segments."
   ]
  },
  {
   "cell_type": "markdown",
   "id": "e8696a7a",
   "metadata": {},
   "source": [
    "## 🌐 Optional: Streamlit Dashboard (app.py)\n",
    "\n",
    "To deploy an interactive dashboard:\n",
    "\n",
    "```python\n",
    "# Save as app.py\n",
    "\n",
    "import streamlit as st\n",
    "import pandas as pd\n",
    "import matplotlib.pyplot as plt\n",
    "import seaborn as sns\n",
    "\n",
    "# Load data\n",
    "df = pd.read_csv('clustered_customers.csv')\n",
    "\n",
    "st.title(\"Customer Segmentation Dashboard\")\n",
    "\n",
    "# Sidebar filter\n",
    "cluster = st.sidebar.selectbox(\"Select Cluster\", sorted(df['Cluster'].unique()))\n",
    "\n",
    "# Show data\n",
    "st.subheader(f\"Cluster {cluster} Summary\")\n",
    "st.write(df[df['Cluster'] == cluster].describe())\n",
    "\n",
    "# Plot\n",
    "st.subheader(\"RFM Distribution by Cluster\")\n",
    "fig, ax = plt.subplots(1, 3, figsize=(15, 5))\n",
    "sns.histplot(df[df['Cluster'] == cluster]['Recency'], ax=ax[0])\n",
    "sns.histplot(df[df['Cluster'] == cluster]['Frequency'], ax=ax[1])\n",
    "sns.histplot(df[df['Cluster'] == cluster]['Monetary'], ax=ax[2])\n",
    "st.pyplot(fig)\n",
    "```\n",
    "\n",
    "Run it with:\n",
    "```bash\n",
    "streamlit run app.py\n",
    "```"
   ]
  },
  {
   "cell_type": "markdown",
   "id": "40e33c15",
   "metadata": {},
   "source": [
    "## 🧬 Optional: Dimensionality Reduction with PCA and t-SNE\n",
    "\n",
    "### PCA Visualization\n",
    "\n",
    "```python\n",
    "from sklearn.decomposition import PCA\n",
    "\n",
    "pca = PCA(n_components=2)\n",
    "pca_components = pca.fit_transform(rfm_scaled)\n",
    "\n",
    "rfm['PCA1'] = pca_components[:, 0]\n",
    "rfm['PCA2'] = pca_components[:, 1]\n",
    "\n",
    "plt.figure(figsize=(8,6))\n",
    "sns.scatterplot(x='PCA1', y='PCA2', hue='Cluster', data=rfm, palette='Set2')\n",
    "plt.title(\"Customer Segments via PCA\")\n",
    "plt.show()\n",
    "```\n",
    "\n",
    "### t-SNE Visualization\n",
    "\n",
    "```python\n",
    "from sklearn.manifold import TSNE\n",
    "\n",
    "tsne = TSNE(n_components=2, perplexity=30, random_state=42)\n",
    "tsne_components = tsne.fit_transform(rfm_scaled)\n",
    "\n",
    "rfm['TSNE1'] = tsne_components[:, 0]\n",
    "rfm['TSNE2'] = tsne_components[:, 1]\n",
    "\n",
    "plt.figure(figsize=(8,6))\n",
    "sns.scatterplot(x='TSNE1', y='TSNE2', hue='Cluster', data=rfm, palette='Set1')\n",
    "plt.title(\"Customer Segments via t-SNE\")\n",
    "plt.show()\n",
    "```"
   ]
  }
 ],
 "metadata": {},
 "nbformat": 4,
 "nbformat_minor": 5
}
